{
  "nbformat": 4,
  "nbformat_minor": 0,
  "metadata": {
    "colab": {
      "provenance": []
    },
    "kernelspec": {
      "name": "python3",
      "display_name": "Python 3"
    },
    "language_info": {
      "name": "python"
    }
  },
  "cells": [
    {
      "cell_type": "markdown",
      "source": [
        "Q1: Assign your name to the variable name."
      ],
      "metadata": {
        "id": "AkSplmOK5YFR"
      }
    },
    {
      "cell_type": "code",
      "source": [
        "Name=\"Yasin\"\n",
        "Name"
      ],
      "metadata": {
        "colab": {
          "base_uri": "https://localhost:8080/",
          "height": 35
        },
        "id": "y3LnR6Xa5udP",
        "outputId": "62ffc6b2-5849-439f-b97c-033fde9a30e8"
      },
      "execution_count": null,
      "outputs": [
        {
          "output_type": "execute_result",
          "data": {
            "text/plain": [
              "'Yasin'"
            ],
            "application/vnd.google.colaboratory.intrinsic+json": {
              "type": "string"
            }
          },
          "metadata": {},
          "execution_count": 2
        }
      ]
    },
    {
      "cell_type": "markdown",
      "source": [
        "Q2: Assign your age (real or fake) to the variable age."
      ],
      "metadata": {
        "id": "_QBkbatf54tA"
      }
    },
    {
      "cell_type": "code",
      "source": [
        "Age= 21\n",
        "Age"
      ],
      "metadata": {
        "colab": {
          "base_uri": "https://localhost:8080/"
        },
        "id": "tyIccexA550v",
        "outputId": "c34b0a7d-bfd1-46cf-b662-faff5722454a"
      },
      "execution_count": null,
      "outputs": [
        {
          "output_type": "execute_result",
          "data": {
            "text/plain": [
              "21"
            ]
          },
          "metadata": {},
          "execution_count": 3
        }
      ]
    },
    {
      "cell_type": "markdown",
      "source": [
        "Q3: Assign a boolean value to the variable has_android_phone."
      ],
      "metadata": {
        "id": "n4LdZCky6Rf3"
      }
    },
    {
      "cell_type": "code",
      "source": [
        "has_android_phone=True\n",
        "has_android_phone"
      ],
      "metadata": {
        "colab": {
          "base_uri": "https://localhost:8080/"
        },
        "id": "WUozmQc56SM4",
        "outputId": "243189b9-6893-41d2-ac0f-b9d23e584e5d"
      },
      "execution_count": null,
      "outputs": [
        {
          "output_type": "execute_result",
          "data": {
            "text/plain": [
              "True"
            ]
          },
          "metadata": {},
          "execution_count": 4
        }
      ]
    },
    {
      "cell_type": "markdown",
      "source": [
        "You can check the values of these variables by running the next cell."
      ],
      "metadata": {
        "id": "Dk5NG33h6aWH"
      }
    },
    {
      "cell_type": "code",
      "source": [
        "Name, Age, has_android_phone"
      ],
      "metadata": {
        "colab": {
          "base_uri": "https://localhost:8080/"
        },
        "id": "BwR14lEm6f_v",
        "outputId": "89326fb7-3c2c-43a0-89df-3b80780c5e82"
      },
      "execution_count": null,
      "outputs": [
        {
          "output_type": "execute_result",
          "data": {
            "text/plain": [
              "('Yasin', 21, True)"
            ]
          },
          "metadata": {},
          "execution_count": 6
        }
      ]
    },
    {
      "cell_type": "markdown",
      "source": [
        "Q4: Create a dictionary person with keys \"Name\", \"Age\", \"HasAndroidPhone\" and\n",
        "values using the variables defined above."
      ],
      "metadata": {
        "id": "rp9etxwB6o9R"
      }
    },
    {
      "cell_type": "code",
      "source": [
        "Person = {\n",
        "    \"Name\":Name,\n",
        "    \"Age\":Age,\n",
        "    \"HasAndroidPhone\":has_android_phone\n",
        "}"
      ],
      "metadata": {
        "id": "6AT5jGmU6p4I"
      },
      "execution_count": null,
      "outputs": []
    },
    {
      "cell_type": "markdown",
      "source": [
        "Let's use the person dictionary to print a nice message."
      ],
      "metadata": {
        "id": "8rCivS787RGB"
      }
    },
    {
      "cell_type": "code",
      "source": [
        "print(\"{} is aged {}, and owns an {}.\".format(\n",
        "Person[\"Name\"],\n",
        "Person[\"Age\"],\n",
        "\"Android phone\" if Person[\"HasAndroidPhone\"] else \"iPhone\"\n",
        "))"
      ],
      "metadata": {
        "colab": {
          "base_uri": "https://localhost:8080/"
        },
        "id": "xXV2w6an7Ugh",
        "outputId": "1857db4e-a457-4cd1-d141-00c8d210478d"
      },
      "execution_count": null,
      "outputs": [
        {
          "output_type": "stream",
          "name": "stdout",
          "text": [
            "Yasin is aged 21, and owns an Android phone.\n"
          ]
        }
      ]
    },
    {
      "cell_type": "markdown",
      "source": [
        "Problem 2 - Working with Lists"
      ],
      "metadata": {
        "id": "4T_TJo_B7eEY"
      }
    },
    {
      "cell_type": "markdown",
      "source": [
        "Q5: Create a list containing the following 3 elements:\n",
        "● your favorite color\n",
        "● the number of pets you have\n",
        "● a boolean value describing whether you have previous programming experience"
      ],
      "metadata": {
        "id": "-5A7McVf7fDw"
      }
    },
    {
      "cell_type": "code",
      "source": [
        "favorite_color = \"Blue\"\n",
        "number_of_pets = 0\n",
        "previous_programming_experience = False\n",
        "\n",
        "my_list = [favorite_color, number_of_pets, previous_programming_experience]\n"
      ],
      "metadata": {
        "id": "T_Dw2pYo7hdg"
      },
      "execution_count": null,
      "outputs": []
    },
    {
      "cell_type": "markdown",
      "source": [
        "Let's see what the list looks like:"
      ],
      "metadata": {
        "id": "-kbVficf8F7R"
      }
    },
    {
      "cell_type": "code",
      "source": [
        "my_list"
      ],
      "metadata": {
        "colab": {
          "base_uri": "https://localhost:8080/"
        },
        "id": "aTWMCPrY8Gto",
        "outputId": "29571f6b-e772-4272-d634-7a0ebde3446b"
      },
      "execution_count": null,
      "outputs": [
        {
          "output_type": "execute_result",
          "data": {
            "text/plain": [
              "['Blue', 0, False]"
            ]
          },
          "metadata": {},
          "execution_count": 12
        }
      ]
    },
    {
      "cell_type": "markdown",
      "source": [
        "Q6: Complete the following print and if statements by accessing the appropriate\n",
        "elements from my_list.\n",
        "Hint: Use the list indexing notation []."
      ],
      "metadata": {
        "id": "67j95zLB8dyI"
      }
    },
    {
      "cell_type": "code",
      "source": [
        "print('My favorite color is',my_list[0])"
      ],
      "metadata": {
        "colab": {
          "base_uri": "https://localhost:8080/"
        },
        "id": "2ATNHyQ68ekQ",
        "outputId": "e37fae48-a212-432d-8643-e3fc58751d0c"
      },
      "execution_count": null,
      "outputs": [
        {
          "output_type": "stream",
          "name": "stdout",
          "text": [
            "My favorite color is Blue\n"
          ]
        }
      ]
    },
    {
      "cell_type": "code",
      "source": [
        "print('I have {} pet(s).'.format(my_list[1]))"
      ],
      "metadata": {
        "colab": {
          "base_uri": "https://localhost:8080/"
        },
        "id": "Hwmhi3KK9W8B",
        "outputId": "8f7c01fe-c0ff-4b44-c2aa-571675202b51"
      },
      "execution_count": null,
      "outputs": [
        {
          "output_type": "stream",
          "name": "stdout",
          "text": [
            "I have 0 pet(s).\n"
          ]
        }
      ]
    },
    {
      "cell_type": "code",
      "source": [
        "if my_list[2]:\n",
        "  print(\"I have previous programming experience\")\n",
        "else:\n",
        "  print(\"I do not have previous programming experience\")"
      ],
      "metadata": {
        "colab": {
          "base_uri": "https://localhost:8080/"
        },
        "id": "BxXoiXG99k6v",
        "outputId": "9a0c4854-7815-4771-d2a9-cffaa57b2930"
      },
      "execution_count": null,
      "outputs": [
        {
          "output_type": "stream",
          "name": "stdout",
          "text": [
            "I do not have previous programming experience\n"
          ]
        }
      ]
    },
    {
      "cell_type": "markdown",
      "source": [
        "Q7: Add your favorite single digit number to the end of the list using the appropriate\n",
        "list method."
      ],
      "metadata": {
        "id": "SOxSlULY-UuZ"
      }
    },
    {
      "cell_type": "code",
      "source": [
        "favorite_single_digit = 7\n",
        "my_list.append(favorite_single_digit)"
      ],
      "metadata": {
        "id": "ABTjCmNS-ViQ"
      },
      "execution_count": null,
      "outputs": []
    },
    {
      "cell_type": "markdown",
      "source": [
        "Let's see if the number shows up in the list."
      ],
      "metadata": {
        "id": "Rd5PlAof-qcQ"
      }
    },
    {
      "cell_type": "code",
      "source": [
        "my_list"
      ],
      "metadata": {
        "colab": {
          "base_uri": "https://localhost:8080/"
        },
        "id": "vhSGtPH7-rKB",
        "outputId": "30a2a5c7-182c-470b-ad1b-ec2c5d9d0da7"
      },
      "execution_count": null,
      "outputs": [
        {
          "output_type": "execute_result",
          "data": {
            "text/plain": [
              "['Blue', 0, False, 7]"
            ]
          },
          "metadata": {},
          "execution_count": 28
        }
      ]
    },
    {
      "cell_type": "markdown",
      "source": [
        "Q8: Remove the first element of the list, using the appropriate list method.\n",
        "Hint: Check out methods of list here:\n",
        "https://www.w3schools.com/python/python_ref_list.asp"
      ],
      "metadata": {
        "id": "_6rdBQ4H-yeg"
      }
    },
    {
      "cell_type": "code",
      "source": [
        "my_list.pop(0)"
      ],
      "metadata": {
        "colab": {
          "base_uri": "https://localhost:8080/",
          "height": 35
        },
        "id": "zPxDjBHp-zKQ",
        "outputId": "05607375-6903-4e74-a71d-4ae026255730"
      },
      "execution_count": null,
      "outputs": [
        {
          "output_type": "execute_result",
          "data": {
            "text/plain": [
              "'Blue'"
            ],
            "application/vnd.google.colaboratory.intrinsic+json": {
              "type": "string"
            }
          },
          "metadata": {},
          "execution_count": 30
        }
      ]
    },
    {
      "cell_type": "code",
      "source": [
        "my_list"
      ],
      "metadata": {
        "colab": {
          "base_uri": "https://localhost:8080/"
        },
        "id": "HP1H9sAb_C-I",
        "outputId": "4611854e-0beb-4c92-b432-a9204c25a2a9"
      },
      "execution_count": null,
      "outputs": [
        {
          "output_type": "execute_result",
          "data": {
            "text/plain": [
              "[0, False, 7]"
            ]
          },
          "metadata": {},
          "execution_count": 31
        }
      ]
    },
    {
      "cell_type": "markdown",
      "source": [
        "Q9: Complete the print statement below to display the number of elements in\n",
        "my_list."
      ],
      "metadata": {
        "id": "v4c_D51u_Gpf"
      }
    },
    {
      "cell_type": "code",
      "source": [
        "print(\"The list has {} elements.\".format(len(my_list)))"
      ],
      "metadata": {
        "colab": {
          "base_uri": "https://localhost:8080/"
        },
        "id": "o4zzWRFP_HVp",
        "outputId": "a2be84a4-8a41-4bdf-daa2-dc7f7549882c"
      },
      "execution_count": null,
      "outputs": [
        {
          "output_type": "stream",
          "name": "stdout",
          "text": [
            "The list has 3 elements.\n"
          ]
        }
      ]
    },
    {
      "cell_type": "markdown",
      "source": [
        "Problem 3 - Conditions and loops"
      ],
      "metadata": {
        "id": "pjqg_7WP_k-B"
      }
    },
    {
      "cell_type": "markdown",
      "source": [
        "Q10: Calculate and display the sum of all the numbers divisible by 7 between 18 and\n",
        "534 i.e. 21+28+35+...+525+532.\n",
        "Hint: One way to do this is to loop over a range using for and use an if statement\n",
        "inside it."
      ],
      "metadata": {
        "id": "9bQ3VPpf_lsA"
      }
    },
    {
      "cell_type": "code",
      "source": [
        "# store the final answer in this variable\n",
        "sum_of_numbers = 0\n",
        "\n",
        "# perform the calculation here\n",
        "for num in range(18, 535):\n",
        "    if num % 7 == 0:  # Check if the number is divisible by 7\n",
        "        sum_of_numbers += num\n",
        "\n",
        "# Display the calculated sum\n",
        "print(\"The sum of numbers divisible by 7 between 18 and 534 is:\", sum_of_numbers)"
      ],
      "metadata": {
        "colab": {
          "base_uri": "https://localhost:8080/"
        },
        "id": "magMNFF5_n7A",
        "outputId": "dfc68f9b-822d-448b-eeb9-f8c183d0c03c"
      },
      "execution_count": null,
      "outputs": [
        {
          "output_type": "stream",
          "name": "stdout",
          "text": [
            "The sum of numbers divisible by 7 between 18 and 534 is: 20461\n"
          ]
        }
      ]
    },
    {
      "cell_type": "markdown",
      "source": [
        "Problem 4 - Flying to the Bahamas"
      ],
      "metadata": {
        "id": "K4eQnhALANLh"
      }
    },
    {
      "cell_type": "markdown",
      "source": [
        "Q11(a): A travel company wants to fly a plane to the Bahamas. Flying the plane costs\n",
        "5000 dollars. So far, 29 people have signed up for the trip. If the company charges 200\n",
        "dollars per ticket, what is the profit made by the company?\n",
        "Fill in values or arithmetic expressions for the variables below."
      ],
      "metadata": {
        "id": "SwaBU2vvAOEo"
      }
    },
    {
      "cell_type": "code",
      "source": [
        "cost_of_flying_plane = 5000\n",
        "number_of_passengers = 29\n",
        "price_of_ticket = 200\n",
        "\n",
        "total_revenue = price_of_ticket * number_of_passengers\n",
        "profit = total_revenue - cost_of_flying_plane\n",
        "\n",
        "print('The company makes a profit of {} dollars'.format(profit))"
      ],
      "metadata": {
        "colab": {
          "base_uri": "https://localhost:8080/"
        },
        "id": "oJSocSOXAQ5h",
        "outputId": "6eeb6b67-15ff-411c-8084-beff34150344"
      },
      "execution_count": null,
      "outputs": [
        {
          "output_type": "stream",
          "name": "stdout",
          "text": [
            "The company makes a profit of 800 dollars\n"
          ]
        }
      ]
    },
    {
      "cell_type": "markdown",
      "source": [
        "Q11(b): Out of the 29 people who took the flight, only 12 buy tickets to return from the\n",
        "Bahamas on the same plane. If the flying the plane back also costs 5000 dollars, and\n",
        "does the company make an overall profit or loss? The company charges the same fee\n",
        "of 200 dollars per ticket for the return flight.\n",
        "Use an if statement to display the result."
      ],
      "metadata": {
        "id": "MMEGF2IWBNEh"
      }
    },
    {
      "cell_type": "code",
      "source": [
        "# this is optional\n",
        "cost_of_flying_plane_back = 5000\n",
        "number_of_return_passengers = 12\n",
        "price_of_return_ticket = 200\n",
        "\n",
        "total_revenue_return = price_of_return_ticket * number_of_return_passengers\n",
        "expenses_return = cost_of_flying_plane_back\n",
        "\n",
        "overall_profit_loss = total_revenue_return - expenses_return\n",
        "\n",
        "if overall_profit_loss > 0:\n",
        "    result = \"profit\"\n",
        "elif overall_profit_loss < 0:\n",
        "    result = \"loss\"\n",
        "else:\n",
        "    result = \"break-even\"\n",
        "\n",
        "print(\"The company makes an {} of {} dollars for the return flight.\".format(result, abs(overall_profit_loss)))"
      ],
      "metadata": {
        "colab": {
          "base_uri": "https://localhost:8080/"
        },
        "id": "R0MfulKRBOF4",
        "outputId": "962c6143-e5f9-41ab-bbb7-e4c21333adb4"
      },
      "execution_count": null,
      "outputs": [
        {
          "output_type": "stream",
          "name": "stdout",
          "text": [
            "The company makes an loss of 2600 dollars for the return flight.\n"
          ]
        }
      ]
    },
    {
      "cell_type": "code",
      "source": [
        "# this is optional\n",
        "if overall_profit_loss > 0:\n",
        "    print(\"The company makes an overall profit of {} dollars\".format(overall_profit_loss))\n",
        "else:\n",
        "    print(\"The company makes an overall loss of {} dollars\".format(abs(overall_profit_loss)))"
      ],
      "metadata": {
        "colab": {
          "base_uri": "https://localhost:8080/"
        },
        "id": "0J_J80fqCEbf",
        "outputId": "e1f3e3b6-4244-4306-afc2-501ede5f7c2c"
      },
      "execution_count": null,
      "outputs": [
        {
          "output_type": "stream",
          "name": "stdout",
          "text": [
            "The company makes an overall loss of 2600 dollars\n"
          ]
        }
      ]
    },
    {
      "cell_type": "markdown",
      "source": [
        "Double-click (or enter) to edit"
      ],
      "metadata": {
        "id": "PkVYkLaF4c6q"
      }
    },
    {
      "cell_type": "markdown",
      "source": [
        "Problem 5 - Twitter Sentiment Analysis(Optional)\n",
        "Are your ready to perform some Data Analysis with Python? In this problem, we'll\n",
        "analyze some fictional tweets and find out whether the overall sentiment of Twitter\n",
        "users is happy or sad. This is a simplified version of an important real world problem\n",
        "called sentiment analysis.\n",
        "Before we begin, we need a list of tweets to analyze. We're picking a small number of\n",
        "tweets here, but the exact same analysis can also be done for thousands, or even\n",
        "millions of tweets. The collection of data that we perform analysis on is often called a\n",
        "dataset"
      ],
      "metadata": {
        "id": "ltaskjAh4eE9"
      }
    },
    {
      "cell_type": "code",
      "source": [
        "tweets = [\n",
        "    \"Wow, what a great day today!! #sunshine\",\n",
        "    \"I feel sad about the things going on around us. #covid19\",\n",
        "    \"I'm really excited to learn Python with @JovianML #zerotopandas\",\n",
        "    \"This is a really nice song. #linkinpark\",\n",
        "    \"The python programming language is useful for data science\",\n",
        "    \"Why do bad things happen to me?\",\n",
        "    \"Apple announces the release of the new iPhone 12. Fans are excited.\",\n",
        "    \"Spent my day with family!! #happy\",\n",
        "    \"Check out my blog post on common string operations in Python. #zerotopandas\",\n",
        "    \"Freecodecamp has great coding tutorials. #skillup\"\n",
        "]\n",
        "\n",
        "# Keywords indicating positive sentiment\n",
        "positive_keywords = [\"great\", \"excited\", \"happy\", \"nice\", \"fans\"]\n",
        "\n",
        "# Keywords indicating negative sentiment\n",
        "negative_keywords = [\"sad\", \"bad\", \"unhappy\", \"why\"]\n",
        "\n",
        "# Initialize counters for positive and negative sentiments\n",
        "positive_count = 0\n",
        "negative_count = 0\n",
        "\n",
        "# Analyze each tweet\n",
        "for tweet in tweets:\n",
        "    lowercase_tweet = tweet.lower()\n",
        "    if any(keyword in lowercase_tweet for keyword in positive_keywords):\n",
        "        positive_count += 1\n",
        "    if any(keyword in lowercase_tweet for keyword in negative_keywords):\n",
        "        negative_count += 1\n",
        "\n",
        "# Determine overall sentiment\n",
        "if positive_count > negative_count:\n",
        "    sentiment = \"happy\"\n",
        "elif positive_count < negative_count:\n",
        "    sentiment = \"sad\"\n",
        "else:\n",
        "    sentiment = \"neutral\"\n",
        "\n",
        "# Display results\n",
        "print(\"Number of positive tweets:\", positive_count)\n",
        "print(\"Number of negative tweets:\", negative_count)\n",
        "print(\"Overall sentiment:\", sentiment)\n"
      ],
      "metadata": {
        "colab": {
          "base_uri": "https://localhost:8080/"
        },
        "id": "Z0LfN7of4iOz",
        "outputId": "cd45d37b-e596-42ef-c47f-18f4d546d3fc"
      },
      "execution_count": 1,
      "outputs": [
        {
          "output_type": "stream",
          "name": "stdout",
          "text": [
            "Number of positive tweets: 6\n",
            "Number of negative tweets: 2\n",
            "Overall sentiment: happy\n"
          ]
        }
      ]
    },
    {
      "cell_type": "markdown",
      "source": [
        "Let's begin by answering a very simple but important question about our dataset."
      ],
      "metadata": {
        "id": "qZwEH95l5J8T"
      }
    },
    {
      "cell_type": "markdown",
      "source": [
        "Q12: How many tweets does the dataset contain?"
      ],
      "metadata": {
        "id": "vQwCW4sy5Lri"
      }
    },
    {
      "cell_type": "code",
      "source": [
        "number_of_tweets =len(tweets)\n",
        "number_of_tweets"
      ],
      "metadata": {
        "colab": {
          "base_uri": "https://localhost:8080/"
        },
        "id": "2JJMfElP5MOY",
        "outputId": "4acf663d-468c-4a4c-cbd5-c3dac63085bd"
      },
      "execution_count": 3,
      "outputs": [
        {
          "output_type": "execute_result",
          "data": {
            "text/plain": [
              "10"
            ]
          },
          "metadata": {},
          "execution_count": 3
        }
      ]
    },
    {
      "cell_type": "markdown",
      "source": [
        "Let's create two lists of words: happy_words and sad_words. We will use these to\n",
        "check if a tweet is happy or sad."
      ],
      "metadata": {
        "id": "hpF7NpUi532h"
      }
    },
    {
      "cell_type": "code",
      "source": [
        "happy_words = ['great', 'excited', 'happy', 'nice', 'wonderful', 'amazing', 'good', 'best']"
      ],
      "metadata": {
        "id": "ifQQe-3v54q7"
      },
      "execution_count": 4,
      "outputs": []
    },
    {
      "cell_type": "code",
      "source": [
        "sad_words = ['sad', 'bad', 'tragic', 'unhappy', 'worst']"
      ],
      "metadata": {
        "id": "ecAxbla961Xn"
      },
      "execution_count": 5,
      "outputs": []
    },
    {
      "cell_type": "markdown",
      "source": [
        "To identify whether a tweet is happy, we can simply check if contains any of the words\n",
        "from happy_words. Here's an example:"
      ],
      "metadata": {
        "id": "jkCb2r2b63e8"
      }
    },
    {
      "cell_type": "code",
      "source": [
        "sample_tweet = tweets[0]\n",
        "\n",
        "\n",
        "print(\"Sample tweet:\", sample_tweet)\n",
        "\n",
        "is_tweet_happy = False\n",
        "\n",
        "\n",
        "for word in happy_words:\n",
        "\n",
        "    if word in sample_tweet.lower():\n",
        "        is_tweet_happy = True\n",
        "        break\n",
        "\n",
        "if is_tweet_happy:\n",
        "    print(\"The sample tweet is happy!\")\n",
        "else:\n",
        "    print(\"The sample tweet is not happy.\")\n"
      ],
      "metadata": {
        "colab": {
          "base_uri": "https://localhost:8080/"
        },
        "id": "Ex-Yh0Df65AT",
        "outputId": "16fb8b77-1e4f-40c9-8950-e9ef7d800d70"
      },
      "execution_count": 6,
      "outputs": [
        {
          "output_type": "stream",
          "name": "stdout",
          "text": [
            "Sample tweet: Wow, what a great day today!! #sunshine\n",
            "The sample tweet is happy!\n"
          ]
        }
      ]
    },
    {
      "cell_type": "code",
      "source": [
        "sample_tweet = tweets[1]\n",
        "\n",
        "\n",
        "print(\"Sample tweet:\", sample_tweet)\n",
        "\n",
        "is_tweet_happy = False\n",
        "\n",
        "\n",
        "for word in happy_words:\n",
        "\n",
        "    if word in sample_tweet.lower():\n",
        "        is_tweet_happy = True\n",
        "        break\n",
        "\n",
        "if is_tweet_happy:\n",
        "    print(\"The sample tweet is happy!\")\n",
        "else:\n",
        "    print(\"The sample tweet is not happy.\")"
      ],
      "metadata": {
        "colab": {
          "base_uri": "https://localhost:8080/"
        },
        "id": "orfhV2S87Gw5",
        "outputId": "245e1982-3329-4d96-8754-66672cbd705f"
      },
      "execution_count": 7,
      "outputs": [
        {
          "output_type": "stream",
          "name": "stdout",
          "text": [
            "Sample tweet: I feel sad about the things going on around us. #covid19\n",
            "The sample tweet is not happy.\n"
          ]
        }
      ]
    },
    {
      "cell_type": "markdown",
      "source": [
        "\n",
        "\n",
        "For each word in the list of happy words, we check if is a part of the selected\n",
        "tweet. If the word is indded a part of the tweet, we set the variable\n",
        "is_tweet_happy to True.\n",
        "\n",
        "\n"
      ],
      "metadata": {
        "id": "OwYAKuqs7ept"
      }
    },
    {
      "cell_type": "code",
      "source": [
        "sample_tweet = tweets[0]\n",
        "\n",
        "\n",
        "print(\"Sample tweet:\", sample_tweet)\n",
        "\n",
        "is_tweet_happy = False\n",
        "\n",
        "\n",
        "for word in happy_words:\n",
        "    if word in sample_tweet.lower():\n",
        "        is_tweet_happy = True\n",
        "        break\n",
        "\n",
        "if is_tweet_happy:\n",
        "    print(\"The sample tweet is happy!\")\n",
        "else:\n",
        "    print(\"The sample tweet is not happy.\")\n",
        "\n",
        "print(\"is_tweet_happy:\", is_tweet_happy)\n"
      ],
      "metadata": {
        "colab": {
          "base_uri": "https://localhost:8080/"
        },
        "id": "xPuLMgxr7fVk",
        "outputId": "3722e975-0520-47b3-e454-cecf4fb094ae"
      },
      "execution_count": 8,
      "outputs": [
        {
          "output_type": "stream",
          "name": "stdout",
          "text": [
            "Sample tweet: Wow, what a great day today!! #sunshine\n",
            "The sample tweet is happy!\n",
            "is_tweet_happy: True\n"
          ]
        }
      ]
    },
    {
      "cell_type": "markdown",
      "source": [
        "Q13: Determine the number of tweets in the dataset that can be classified as happy.\n",
        "Hint: You'll need to use a loop inside another loop to do this. Use the code from the\n",
        "example shown above."
      ],
      "metadata": {
        "id": "kux-Arcm7v9R"
      }
    },
    {
      "cell_type": "code",
      "source": [
        "tweets = [\n",
        "    \"Wow, what a great day today!! #sunshine\",\n",
        "    \"I feel sad about the things going on around us. #covid19\",\n",
        "    \"I'm really excited to learn Python with @JovianML #zerotopandas\",\n",
        "    \"This is a really nice song. #linkinpark\",\n",
        "    \"The python programming language is useful for data science\",\n",
        "    \"Why do bad things happen to me?\",\n",
        "    \"Apple announces the release of the new iPhone 12. Fans are excited.\",\n",
        "    \"Spent my day with family!! #happy\",\n",
        "    \"Check out my blog post on common string operations in Python. #zerotopandas\",\n",
        "    \"Freecodecamp has great coding tutorials. #skillup\"\n",
        "]\n",
        "\n",
        "happy_words = [\"great\", \"excited\", \"happy\", \"nice\", \"fans\", \"sunshine\"]\n",
        "number_of_happy_tweets = 0\n",
        "\n",
        "for tweet in tweets:\n",
        "    lowercase_tweet = tweet.lower()\n",
        "    if any(keyword in lowercase_tweet for keyword in happy_words):\n",
        "        number_of_happy_tweets += 1\n",
        "\n",
        "print(\"Number of happy tweets:\", number_of_happy_tweets)\n"
      ],
      "metadata": {
        "colab": {
          "base_uri": "https://localhost:8080/"
        },
        "id": "4Oy6JXif7xgh",
        "outputId": "34ca25ff-9c66-40bc-ce6a-2a9e280e0d52"
      },
      "execution_count": 9,
      "outputs": [
        {
          "output_type": "stream",
          "name": "stdout",
          "text": [
            "Number of happy tweets: 6\n"
          ]
        }
      ]
    },
    {
      "cell_type": "markdown",
      "source": [
        "Q14: What fraction of the total number of tweets are happy?\n",
        "For example, if 2 out of 10 tweets are happy, then the answer is 2/10 i.e. 0.2."
      ],
      "metadata": {
        "id": "LBmdFXJE79hV"
      }
    },
    {
      "cell_type": "code",
      "source": [
        "number_of_happy_tweets = 0\n",
        "\n",
        "for tweet in tweets:\n",
        "    lowercase_tweet = tweet.lower()\n",
        "    if any(keyword in lowercase_tweet for keyword in happy_words):\n",
        "        number_of_happy_tweets += 1\n",
        "total_number_of_tweets = len(tweets)\n",
        "happy_fraction = number_of_happy_tweets / total_number_of_tweets\n",
        "\n",
        "print(\"The fraction of happy tweets is:\", happy_fraction)"
      ],
      "metadata": {
        "colab": {
          "base_uri": "https://localhost:8080/"
        },
        "id": "Briay1MP7-KJ",
        "outputId": "4bc4a7ca-9fd6-4386-dab5-dd989da1198d"
      },
      "execution_count": 11,
      "outputs": [
        {
          "output_type": "stream",
          "name": "stdout",
          "text": [
            "The fraction of happy tweets is: 0.6\n"
          ]
        }
      ]
    },
    {
      "cell_type": "markdown",
      "source": [
        "Q15: Determine the number of tweets in the dataset that can be classified as sad."
      ],
      "metadata": {
        "id": "uP08_X0j8QO1"
      }
    },
    {
      "cell_type": "code",
      "source": [
        "sad_words = [\"sad\", \"bad\", \"unhappy\", \"why\"]\n",
        "\n",
        "number_of_sad_tweets = 0\n",
        "\n",
        "\n",
        "for tweet in tweets:\n",
        "    lowercase_tweet = tweet.lower()\n",
        "    if any(keyword in lowercase_tweet for keyword in sad_words):\n",
        "        number_of_sad_tweets += 1\n",
        "\n",
        "print(\"Number of sad tweets:\", number_of_sad_tweets)"
      ],
      "metadata": {
        "colab": {
          "base_uri": "https://localhost:8080/"
        },
        "id": "uT4pgCtG8Q52",
        "outputId": "6ff6a586-305a-40a8-a3e8-ed2540fe6f69"
      },
      "execution_count": 12,
      "outputs": [
        {
          "output_type": "stream",
          "name": "stdout",
          "text": [
            "Number of sad tweets: 2\n"
          ]
        }
      ]
    },
    {
      "cell_type": "markdown",
      "source": [
        "Q16: What fraction of the total number of tweets are sad?"
      ],
      "metadata": {
        "id": "YG4U5H-u8cDv"
      }
    },
    {
      "cell_type": "code",
      "source": [
        "total_number_of_tweets = len(tweets)\n",
        "sad_fraction = number_of_sad_tweets / total_number_of_tweets\n",
        "\n",
        "print(\"The fraction of sad tweets is:\", sad_fraction)"
      ],
      "metadata": {
        "colab": {
          "base_uri": "https://localhost:8080/"
        },
        "id": "mvDOeWpJ8cnV",
        "outputId": "3991a565-2614-4ea7-85ca-c53345b28dc9"
      },
      "execution_count": 13,
      "outputs": [
        {
          "output_type": "stream",
          "name": "stdout",
          "text": [
            "The fraction of sad tweets is: 0.2\n"
          ]
        }
      ]
    },
    {
      "cell_type": "markdown",
      "source": [
        "Q16(b): Calculate the sentiment score, which is defined as the difference betweek the\n",
        "fraction of happy tweets and the fraction of sad tweets."
      ],
      "metadata": {
        "id": "-f93I-Tf8rDs"
      }
    },
    {
      "cell_type": "code",
      "source": [
        "\n",
        "tweets = [\n",
        "    \"Wow, what a great day today!! #sunshine\",\n",
        "    \"I feel sad about the things going on around us. #covid19\",\n",
        "    \"I'm really excited to learn Python with @JovianML #zerotopandas\",\n",
        "    \"This is a really nice song. #linkinpark\",\n",
        "    \"The python programming language is useful for data science\",\n",
        "    \"Why do bad things happen to me?\",\n",
        "    \"Apple announces the release of the new iPhone 12. Fans are excited.\",\n",
        "    \"Spent my day with family!! #happy\",\n",
        "    \"Check out my blog post on common string operations in Python. #zerotopandas\",\n",
        "    \"Freecodecamp has great coding tutorials. #skillup\"\n",
        "]\n",
        "\n",
        "\n",
        "happy_words = [\"great\", \"excited\", \"happy\", \"nice\", \"fans\", \"sunshine\"]\n",
        "sad_words = [\"sad\", \"bad\", \"unhappy\", \"why\"]\n",
        "\n",
        "\n",
        "number_of_happy_tweets = 0\n",
        "number_of_sad_tweets = 0\n",
        "\n",
        "for tweet in tweets:\n",
        "    lowercase_tweet = tweet.lower()\n",
        "    if any(keyword in lowercase_tweet for keyword in happy_words):\n",
        "        number_of_happy_tweets += 1\n",
        "    if any(keyword in lowercase_tweet for keyword in sad_words):\n",
        "        number_of_sad_tweets += 1\n",
        "\n",
        "\n",
        "total_number_of_tweets = len(tweets)\n",
        "happy_fraction = number_of_happy_tweets / total_number_of_tweets\n",
        "sad_fraction = number_of_sad_tweets / total_number_of_tweets\n",
        "\n",
        "\n",
        "sentiment_score = happy_fraction - sad_fraction\n",
        "\n",
        "\n",
        "print(\"The sentiment score for the given tweets is\", sentiment_score)\n"
      ],
      "metadata": {
        "colab": {
          "base_uri": "https://localhost:8080/"
        },
        "id": "49_xh4Pi8rod",
        "outputId": "cae6c409-a00c-4623-d814-98dc07f1c5a0"
      },
      "execution_count": 14,
      "outputs": [
        {
          "output_type": "stream",
          "name": "stdout",
          "text": [
            "The sentiment score for the given tweets is 0.39999999999999997\n"
          ]
        }
      ]
    },
    {
      "cell_type": "markdown",
      "source": [
        "Q16(c): Display whether the overall sentiment of the given dataset of tweets is happy\n",
        "or sad, using the sentiment score.\n"
      ],
      "metadata": {
        "id": "DLBD_PF48_6M"
      }
    },
    {
      "cell_type": "code",
      "source": [
        "sentiment_score = happy_fraction - sad_fraction\n",
        "\n",
        "\n",
        "if sentiment_score > 0.1:\n",
        "    print(\"The overall sentiment is happy\")\n",
        "elif sentiment_score < -0.1:\n",
        "    print(\"The overall sentiment is sad\")\n",
        "else:\n",
        "    print(\"The overall sentiment is neutral\")\n",
        "\n",
        "\n",
        "number_of_neutral_tweets = total_number_of_tweets - (number_of_happy_tweets + number_of_sad_tweets)\n",
        "\n",
        "\n",
        "print(\"Number of neutral tweets:\", number_of_neutral_tweets)"
      ],
      "metadata": {
        "colab": {
          "base_uri": "https://localhost:8080/"
        },
        "id": "PISI9het9Bmz",
        "outputId": "9651e31f-d5d3-4829-e5cc-1b38b5f5824e"
      },
      "execution_count": 15,
      "outputs": [
        {
          "output_type": "stream",
          "name": "stdout",
          "text": [
            "The overall sentiment is happy\n",
            "Number of neutral tweets: 2\n"
          ]
        }
      ]
    },
    {
      "cell_type": "markdown",
      "source": [
        "Q16d (Optional): What is the fraction of tweets that are neutral i.e. neither happy nor\n",
        "sad.\n"
      ],
      "metadata": {
        "id": "sC8Kb3l89Mfw"
      }
    },
    {
      "cell_type": "code",
      "source": [
        "neutral_fraction = 1 - (happy_fraction + sad_fraction)\n",
        "\n",
        "print('The fraction of neutral tweets is', neutral_fraction)"
      ],
      "metadata": {
        "colab": {
          "base_uri": "https://localhost:8080/"
        },
        "id": "mzIHOHQ69NHO",
        "outputId": "2b3f3b2f-d20a-422c-e877-10520e6ac2d5"
      },
      "execution_count": 16,
      "outputs": [
        {
          "output_type": "stream",
          "name": "stdout",
          "text": [
            "The fraction of neutral tweets is 0.19999999999999996\n"
          ]
        }
      ]
    },
    {
      "cell_type": "markdown",
      "source": [
        "Ponder upon these questions and try some experiments to hone your skills further:\n",
        "● What are the limitations of our approach? When will it go wrong or give incorrect\n",
        "results?\n",
        "● How can we improve our approach to address the limitations?\n",
        "● What are some other questions you would like to ask, given a list of tweets?\n",
        "● Try collecting some real tweets from your Twitter timeline and repeat this\n",
        "analysis. Do the results make sense?\n",
        "IMPORTANT NOTE: If you want to try out these experiments, please create a new\n",
        "notebook using the \"New Notebook\" button on your Jovian.ml profile, to avoid making\n",
        "unintended changes to your assignment submission notebook."
      ],
      "metadata": {
        "id": "iNqkR5U49amR"
      }
    }
  ]
}